{
 "cells": [
  {
   "cell_type": "code",
   "execution_count": 22,
   "metadata": {},
   "outputs": [],
   "source": [
    "import pandas as pd\n",
    "import json"
   ]
  },
  {
   "cell_type": "code",
   "execution_count": 17,
   "metadata": {},
   "outputs": [],
   "source": [
    "df = pd.read_json('data.json')"
   ]
  },
  {
   "cell_type": "code",
   "execution_count": 20,
   "metadata": {},
   "outputs": [
    {
     "data": {
      "text/plain": [
       "title           Offshore Profit Shifting and Aggregate Measure...\n",
       "authors         [Fatih Guvenen ,  Raymond J. Mataloni Jr. ,  D...\n",
       "journal_name                             American Economic Review\n",
       "organisation                        American Economic Association\n",
       "vol/iss                                                    112(6)\n",
       "pages                                                   1848-1884\n",
       "month                                                        June\n",
       "year                                                         2022\n",
       "link            https://ideas.repec.org/a/aea/aecrev/v112y2022...\n",
       "Name: 0, dtype: object"
      ]
     },
     "execution_count": 20,
     "metadata": {},
     "output_type": "execute_result"
    }
   ],
   "source": [
    "df.iloc[0]"
   ]
  },
  {
   "cell_type": "code",
   "execution_count": 25,
   "metadata": {},
   "outputs": [],
   "source": [
    "files=[\"data2.json\",\"data3.json\",\"data4.json\",\"data5.json\",\"data6.json\",\"data7.json\",\"data8.json\",\"data9.json\"]\n",
    "\n",
    "def merge_JsonFiles(filename):\n",
    "    result = list()\n",
    "    for f1 in filename:\n",
    "        with open(f1, 'r') as infile:\n",
    "            result.extend(json.load(infile))\n",
    "\n",
    "    with open('paper_data.json', 'w') as output_file:\n",
    "        json.dump(result, output_file)\n",
    "\n",
    "merge_JsonFiles(files)"
   ]
  },
  {
   "cell_type": "code",
   "execution_count": 29,
   "metadata": {},
   "outputs": [],
   "source": [
    "df = pd.read_json('paper_data.json')"
   ]
  },
  {
   "cell_type": "code",
   "execution_count": 30,
   "metadata": {},
   "outputs": [
    {
     "data": {
      "text/html": [
       "<div>\n",
       "<style scoped>\n",
       "    .dataframe tbody tr th:only-of-type {\n",
       "        vertical-align: middle;\n",
       "    }\n",
       "\n",
       "    .dataframe tbody tr th {\n",
       "        vertical-align: top;\n",
       "    }\n",
       "\n",
       "    .dataframe thead th {\n",
       "        text-align: right;\n",
       "    }\n",
       "</style>\n",
       "<table border=\"1\" class=\"dataframe\">\n",
       "  <thead>\n",
       "    <tr style=\"text-align: right;\">\n",
       "      <th></th>\n",
       "      <th>info1</th>\n",
       "      <th>info2</th>\n",
       "      <th>link</th>\n",
       "    </tr>\n",
       "  </thead>\n",
       "  <tbody>\n",
       "    <tr>\n",
       "      <th>0</th>\n",
       "      <td>[  Victor Chernozhukov &amp; Whitney K. Newey &amp; Ra...</td>\n",
       "      <td>[Automatic Debiased Machine Learning of Causal...</td>\n",
       "      <td>https://ideas.repec.org/a/wly/emetrp/v90y2022i...</td>\n",
       "    </tr>\n",
       "    <tr>\n",
       "      <th>1</th>\n",
       "      <td>[  Alessandra Fenizia, 2022.\\n\", ,\"\\n, , Econo...</td>\n",
       "      <td>[Managers and Productivity in the Public Secto...</td>\n",
       "      <td>https://ideas.repec.org/a/wly/emetrp/v90y2022i...</td>\n",
       "    </tr>\n",
       "    <tr>\n",
       "      <th>2</th>\n",
       "      <td>[  Madhav Chandrasekher &amp; Mira Frick &amp; Ryota I...</td>\n",
       "      <td>[Dual‐Self Representations of Ambiguity Prefer...</td>\n",
       "      <td>https://ideas.repec.org/a/wly/emetrp/v90y2022i...</td>\n",
       "    </tr>\n",
       "    <tr>\n",
       "      <th>3</th>\n",
       "      <td>[  Tayfun Sönmez &amp; M. Bumin Yenmez, 2022.\\n\", ...</td>\n",
       "      <td>[Affirmative Action in India via Vertical, Hor...</td>\n",
       "      <td>https://ideas.repec.org/a/wly/emetrp/v90y2022i...</td>\n",
       "    </tr>\n",
       "    <tr>\n",
       "      <th>4</th>\n",
       "      <td>[  Eduardo Perez‐Richet &amp; Vasiliki Skreta, 202...</td>\n",
       "      <td>[Test Design Under Falsification, Econometrica]</td>\n",
       "      <td>https://ideas.repec.org/a/wly/emetrp/v90y2022i...</td>\n",
       "    </tr>\n",
       "    <tr>\n",
       "      <th>...</th>\n",
       "      <td>...</td>\n",
       "      <td>...</td>\n",
       "      <td>...</td>\n",
       "    </tr>\n",
       "    <tr>\n",
       "      <th>39449</th>\n",
       "      <td>[  White, James H, 1969.\\n\", ,\"\\n, , American ...</td>\n",
       "      <td>[The Supply Function in Agriculture Revisited:...</td>\n",
       "      <td>https://ideas.repec.org/a/aea/aecrev/v59y1969i...</td>\n",
       "    </tr>\n",
       "    <tr>\n",
       "      <th>39450</th>\n",
       "      <td>[  Tullock, Gordon, 1969.\\n\", ,\"\\n, , American...</td>\n",
       "      <td>[Social Cost and Government Action, American E...</td>\n",
       "      <td>https://ideas.repec.org/a/aea/aecrev/v59y1969i...</td>\n",
       "    </tr>\n",
       "    <tr>\n",
       "      <th>39451</th>\n",
       "      <td>[  Borcherding, Thomas E, 1969.\\n\", ,\"\\n, , Am...</td>\n",
       "      <td>[Problems in the Theory of Public Choice: Disc...</td>\n",
       "      <td>https://ideas.repec.org/a/aea/aecrev/v59y1969i...</td>\n",
       "    </tr>\n",
       "    <tr>\n",
       "      <th>39452</th>\n",
       "      <td>[  Black, Duncan, 1969.\\n\", ,\"\\n, , American E...</td>\n",
       "      <td>[Lewis Carroll and the Theory of Games, Americ...</td>\n",
       "      <td>https://ideas.repec.org/a/aea/aecrev/v59y1969i...</td>\n",
       "    </tr>\n",
       "    <tr>\n",
       "      <th>39453</th>\n",
       "      <td>[  Breton, Albert &amp; Breton, Raymond, 1969.\\n\",...</td>\n",
       "      <td>[An Economic Theory of Social Movements, Ameri...</td>\n",
       "      <td>https://ideas.repec.org/a/aea/aecrev/v59y1969i...</td>\n",
       "    </tr>\n",
       "  </tbody>\n",
       "</table>\n",
       "<p>39454 rows × 3 columns</p>\n",
       "</div>"
      ],
      "text/plain": [
       "                                                   info1  \\\n",
       "0      [  Victor Chernozhukov & Whitney K. Newey & Ra...   \n",
       "1      [  Alessandra Fenizia, 2022.\\n\", ,\"\\n, , Econo...   \n",
       "2      [  Madhav Chandrasekher & Mira Frick & Ryota I...   \n",
       "3      [  Tayfun Sönmez & M. Bumin Yenmez, 2022.\\n\", ...   \n",
       "4      [  Eduardo Perez‐Richet & Vasiliki Skreta, 202...   \n",
       "...                                                  ...   \n",
       "39449  [  White, James H, 1969.\\n\", ,\"\\n, , American ...   \n",
       "39450  [  Tullock, Gordon, 1969.\\n\", ,\"\\n, , American...   \n",
       "39451  [  Borcherding, Thomas E, 1969.\\n\", ,\"\\n, , Am...   \n",
       "39452  [  Black, Duncan, 1969.\\n\", ,\"\\n, , American E...   \n",
       "39453  [  Breton, Albert & Breton, Raymond, 1969.\\n\",...   \n",
       "\n",
       "                                                   info2  \\\n",
       "0      [Automatic Debiased Machine Learning of Causal...   \n",
       "1      [Managers and Productivity in the Public Secto...   \n",
       "2      [Dual‐Self Representations of Ambiguity Prefer...   \n",
       "3      [Affirmative Action in India via Vertical, Hor...   \n",
       "4        [Test Design Under Falsification, Econometrica]   \n",
       "...                                                  ...   \n",
       "39449  [The Supply Function in Agriculture Revisited:...   \n",
       "39450  [Social Cost and Government Action, American E...   \n",
       "39451  [Problems in the Theory of Public Choice: Disc...   \n",
       "39452  [Lewis Carroll and the Theory of Games, Americ...   \n",
       "39453  [An Economic Theory of Social Movements, Ameri...   \n",
       "\n",
       "                                                    link  \n",
       "0      https://ideas.repec.org/a/wly/emetrp/v90y2022i...  \n",
       "1      https://ideas.repec.org/a/wly/emetrp/v90y2022i...  \n",
       "2      https://ideas.repec.org/a/wly/emetrp/v90y2022i...  \n",
       "3      https://ideas.repec.org/a/wly/emetrp/v90y2022i...  \n",
       "4      https://ideas.repec.org/a/wly/emetrp/v90y2022i...  \n",
       "...                                                  ...  \n",
       "39449  https://ideas.repec.org/a/aea/aecrev/v59y1969i...  \n",
       "39450  https://ideas.repec.org/a/aea/aecrev/v59y1969i...  \n",
       "39451  https://ideas.repec.org/a/aea/aecrev/v59y1969i...  \n",
       "39452  https://ideas.repec.org/a/aea/aecrev/v59y1969i...  \n",
       "39453  https://ideas.repec.org/a/aea/aecrev/v59y1969i...  \n",
       "\n",
       "[39454 rows x 3 columns]"
      ]
     },
     "execution_count": 30,
     "metadata": {},
     "output_type": "execute_result"
    }
   ],
   "source": [
    "df"
   ]
  },
  {
   "cell_type": "code",
   "execution_count": 33,
   "metadata": {},
   "outputs": [
    {
     "data": {
      "text/plain": [
       "0    [  Victor Chernozhukov & Whitney K. Newey & Ra...\n",
       "Name: info1, dtype: object"
      ]
     },
     "execution_count": 33,
     "metadata": {},
     "output_type": "execute_result"
    }
   ],
   "source": [
    "df['info1'].head(1)"
   ]
  },
  {
   "cell_type": "code",
   "execution_count": null,
   "metadata": {},
   "outputs": [],
   "source": []
  }
 ],
 "metadata": {
  "kernelspec": {
   "display_name": "Journal-Scraper",
   "language": "python",
   "name": "journal-scraper"
  },
  "language_info": {
   "codemirror_mode": {
    "name": "ipython",
    "version": 3
   },
   "file_extension": ".py",
   "mimetype": "text/x-python",
   "name": "python",
   "nbconvert_exporter": "python",
   "pygments_lexer": "ipython3",
   "version": "3.7.4"
  }
 },
 "nbformat": 4,
 "nbformat_minor": 2
}
